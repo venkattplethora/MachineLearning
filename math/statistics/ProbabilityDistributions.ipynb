{
 "metadata": {
  "language_info": {
   "codemirror_mode": {
    "name": "ipython",
    "version": 3
   },
   "file_extension": ".py",
   "mimetype": "text/x-python",
   "name": "python",
   "nbconvert_exporter": "python",
   "pygments_lexer": "ipython3",
   "version": "3.9.5"
  },
  "orig_nbformat": 4,
  "kernelspec": {
   "name": "python3",
   "display_name": "Python 3.9.5 64-bit"
  },
  "interpreter": {
   "hash": "ac59ebe37160ed0dfa835113d9b8498d9f09ceb179beaac4002f036b9467c963"
  }
 },
 "nbformat": 4,
 "nbformat_minor": 2,
 "cells": [
  {
   "cell_type": "markdown",
   "source": [
    "<h2 style=\"background-color:rgba(100,100,100,0.5);\"> Binomial Distribution </h2>\r\n",
    "\r\n",
    "test\r\n",
    "\r\n",
    "<h3><b>test</b></h3>"
   ],
   "metadata": {}
  },
  {
   "cell_type": "markdown",
   "source": [
    "<h2 style=\"background-color:rgba(100,100,100,0.5);\"> Multinomial Distribution </h2>\r\n",
    "\r\n",
    "test\r\n",
    "\r\n",
    "<h3><b>test</b></h3>"
   ],
   "metadata": {}
  }
 ]
}