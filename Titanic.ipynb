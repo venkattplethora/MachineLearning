{
 "metadata": {
  "language_info": {
   "codemirror_mode": {
    "name": "ipython",
    "version": 3
   },
   "file_extension": ".py",
   "mimetype": "text/x-python",
   "name": "python",
   "nbconvert_exporter": "python",
   "pygments_lexer": "ipython3",
   "version": "3.9.5"
  },
  "orig_nbformat": 4,
  "kernelspec": {
   "name": "python3",
   "display_name": "Python 3.9.5 64-bit"
  },
  "interpreter": {
   "hash": "ac59ebe37160ed0dfa835113d9b8498d9f09ceb179beaac4002f036b9467c963"
  }
 },
 "nbformat": 4,
 "nbformat_minor": 2,
 "cells": [
  {
   "cell_type": "markdown",
   "source": [
    "<h1> Titanic </h1>\r\n",
    "\r\n",
    "The dataset contains the list of passengers and information about each passenger. The goal is to predict whether or not a passenger survived based on attributes such as their age, sex, passenger class, where they embarked and so on.\r\n",
    "\r\n",
    "Reference: https://jaketae.github.io/study/sklearn-pipeline/"
   ],
   "metadata": {}
  },
  {
   "cell_type": "markdown",
   "source": [
    "<h2 style=\"background-color:rgba(100,100,100,0.5);\"> Frame the problem </h2>\r\n",
    "\r\n",
    "Titanic survival predictor is clearly a typical supervised learning task, since you are given labeled training examples.\r\n",
    "\r\n",
    "It is also a typical classification task, since you are asked to classify whether a passenger is a survivor or not.\r\n",
    "\r\n",
    "Finally, there is no continuous flow of data coming into the system, there is no particular need to adjust to changing data rapidly, and the data is small enough to fit in memory, so plain batch learning should do just fine."
   ],
   "metadata": {}
  },
  {
   "cell_type": "markdown",
   "source": [
    "<h2 style=\"background-color:rgba(100,100,100,0.5);\"> Fetch and load data </h2>\r\n"
   ],
   "metadata": {}
  },
  {
   "cell_type": "code",
   "execution_count": 126,
   "source": [
    "from sklearn.datasets import fetch_openml\r\n",
    "\r\n",
    "# Fetch the data\r\n",
    "# as_Frame=True will fetch data as pandas dataframe\r\n",
    "# as_Frame=False will fetch data as array\r\n",
    "titanic = fetch_openml('titanic', version=1, as_frame=True)\r\n",
    "titanic.keys()"
   ],
   "outputs": [
    {
     "output_type": "execute_result",
     "data": {
      "text/plain": [
       "dict_keys(['data', 'target', 'frame', 'categories', 'feature_names', 'target_names', 'DESCR', 'details', 'url'])"
      ]
     },
     "metadata": {},
     "execution_count": 126
    }
   ],
   "metadata": {}
  },
  {
   "cell_type": "markdown",
   "source": [
    "<h2 style=\"background-color:rgba(100,100,100,0.5);\"> Analyze the data and its structure </h2>"
   ],
   "metadata": {}
  },
  {
   "cell_type": "code",
   "execution_count": 127,
   "source": [
    "X, y = titanic[\"data\"], titanic[\"target\"]\r\n",
    "\r\n",
    "# Display shape\r\n",
    "print(X.shape)\r\n",
    "print(y.shape)\r\n",
    "\r\n",
    "# Display head\r\n",
    "print(X.head())\r\n",
    "print(y.head())\r\n",
    "\r\n",
    "# Display info\r\n",
    "print(X.info())\r\n",
    "\r\n",
    "# Display percentage of missing values for each attribute\r\n",
    "print(X.isnull().sum() / len(X) * 100)"
   ],
   "outputs": [
    {
     "output_type": "stream",
     "name": "stdout",
     "text": [
      "(1309, 13)\n",
      "(1309,)\n",
      "   pclass                                             name     sex      age  \\\n",
      "0     1.0                    Allen, Miss. Elisabeth Walton  female  29.0000   \n",
      "1     1.0                   Allison, Master. Hudson Trevor    male   0.9167   \n",
      "2     1.0                     Allison, Miss. Helen Loraine  female   2.0000   \n",
      "3     1.0             Allison, Mr. Hudson Joshua Creighton    male  30.0000   \n",
      "4     1.0  Allison, Mrs. Hudson J C (Bessie Waldo Daniels)  female  25.0000   \n",
      "\n",
      "   sibsp  parch  ticket      fare    cabin embarked  boat   body  \\\n",
      "0    0.0    0.0   24160  211.3375       B5        S     2    NaN   \n",
      "1    1.0    2.0  113781  151.5500  C22 C26        S    11    NaN   \n",
      "2    1.0    2.0  113781  151.5500  C22 C26        S  None    NaN   \n",
      "3    1.0    2.0  113781  151.5500  C22 C26        S  None  135.0   \n",
      "4    1.0    2.0  113781  151.5500  C22 C26        S  None    NaN   \n",
      "\n",
      "                         home.dest  \n",
      "0                     St Louis, MO  \n",
      "1  Montreal, PQ / Chesterville, ON  \n",
      "2  Montreal, PQ / Chesterville, ON  \n",
      "3  Montreal, PQ / Chesterville, ON  \n",
      "4  Montreal, PQ / Chesterville, ON  \n",
      "0    1\n",
      "1    1\n",
      "2    0\n",
      "3    0\n",
      "4    0\n",
      "Name: survived, dtype: category\n",
      "Categories (2, object): ['0', '1']\n",
      "<class 'pandas.core.frame.DataFrame'>\n",
      "RangeIndex: 1309 entries, 0 to 1308\n",
      "Data columns (total 13 columns):\n",
      " #   Column     Non-Null Count  Dtype   \n",
      "---  ------     --------------  -----   \n",
      " 0   pclass     1309 non-null   float64 \n",
      " 1   name       1309 non-null   object  \n",
      " 2   sex        1309 non-null   category\n",
      " 3   age        1046 non-null   float64 \n",
      " 4   sibsp      1309 non-null   float64 \n",
      " 5   parch      1309 non-null   float64 \n",
      " 6   ticket     1309 non-null   object  \n",
      " 7   fare       1308 non-null   float64 \n",
      " 8   cabin      295 non-null    object  \n",
      " 9   embarked   1307 non-null   category\n",
      " 10  boat       486 non-null    object  \n",
      " 11  body       121 non-null    float64 \n",
      " 12  home.dest  745 non-null    object  \n",
      "dtypes: category(2), float64(6), object(5)\n",
      "memory usage: 115.4+ KB\n",
      "None\n",
      "pclass        0.000000\n",
      "name          0.000000\n",
      "sex           0.000000\n",
      "age          20.091673\n",
      "sibsp         0.000000\n",
      "parch         0.000000\n",
      "ticket        0.000000\n",
      "fare          0.076394\n",
      "cabin        77.463713\n",
      "embarked      0.152788\n",
      "boat         62.872422\n",
      "body         90.756303\n",
      "home.dest    43.086325\n",
      "dtype: float64\n"
     ]
    }
   ],
   "metadata": {}
  },
  {
   "cell_type": "markdown",
   "source": [
    "<h3><b>How many instances are there in the dataset</b></h3>\r\n",
    "\r\n",
    "There are 1309 values in the data set, which is not very large.\r\n",
    "\r\n",
    "<h3><b>Are there missing values (non-null) for any attributes</b></h3>\r\n",
    "\r\n",
    ">Data cleaning will need to be done to address any missing values\r\n",
    "\r\n",
    "The age, fare, embarked, cabin, boat, body and home destination are sometimes null.\r\n",
    "\r\n",
    "The cabin, boat, body and home destination have a lot of null values (as indicated by the percentage of null values), it will be difficult to impute these values, we will drop these instead.\r\n",
    "\r\n",
    "The age has some null values, we can possibly use the median age as replacement for the null values. For, the fare and embarked, we can possibly use the most frequently occuring categorical value.\r\n",
    "\r\n",
    "<h3><b>What are the numerical and categorical attributes</b></h3>\r\n",
    "\r\n",
    ">Categorical attributes will need to be mapped to numerical values (encoding)\r\n",
    "\r\n",
    "The pclass, sex and embarked are categorical attributes.\r\n",
    "\r\n",
    "The name and ticket attributes may have some value, but they are of type object and will be a bit tricky to convert into useful numbers that a model can consume. We can infer the title (Miss, Mrs.etc.) from name and ignore the actual name, and drop ticket attribute."
   ],
   "metadata": {}
  },
  {
   "cell_type": "code",
   "execution_count": 128,
   "source": [
    "X.describe()"
   ],
   "outputs": [
    {
     "output_type": "execute_result",
     "data": {
      "text/plain": [
       "            pclass          age        sibsp        parch         fare  \\\n",
       "count  1309.000000  1046.000000  1309.000000  1309.000000  1308.000000   \n",
       "mean      2.294882    29.881135     0.498854     0.385027    33.295479   \n",
       "std       0.837836    14.413500     1.041658     0.865560    51.758668   \n",
       "min       1.000000     0.166700     0.000000     0.000000     0.000000   \n",
       "25%       2.000000    21.000000     0.000000     0.000000     7.895800   \n",
       "50%       3.000000    28.000000     0.000000     0.000000    14.454200   \n",
       "75%       3.000000    39.000000     1.000000     0.000000    31.275000   \n",
       "max       3.000000    80.000000     8.000000     9.000000   512.329200   \n",
       "\n",
       "             body  \n",
       "count  121.000000  \n",
       "mean   160.809917  \n",
       "std     97.696922  \n",
       "min      1.000000  \n",
       "25%     72.000000  \n",
       "50%    155.000000  \n",
       "75%    256.000000  \n",
       "max    328.000000  "
      ],
      "text/html": [
       "<div>\n",
       "<style scoped>\n",
       "    .dataframe tbody tr th:only-of-type {\n",
       "        vertical-align: middle;\n",
       "    }\n",
       "\n",
       "    .dataframe tbody tr th {\n",
       "        vertical-align: top;\n",
       "    }\n",
       "\n",
       "    .dataframe thead th {\n",
       "        text-align: right;\n",
       "    }\n",
       "</style>\n",
       "<table border=\"1\" class=\"dataframe\">\n",
       "  <thead>\n",
       "    <tr style=\"text-align: right;\">\n",
       "      <th></th>\n",
       "      <th>pclass</th>\n",
       "      <th>age</th>\n",
       "      <th>sibsp</th>\n",
       "      <th>parch</th>\n",
       "      <th>fare</th>\n",
       "      <th>body</th>\n",
       "    </tr>\n",
       "  </thead>\n",
       "  <tbody>\n",
       "    <tr>\n",
       "      <th>count</th>\n",
       "      <td>1309.000000</td>\n",
       "      <td>1046.000000</td>\n",
       "      <td>1309.000000</td>\n",
       "      <td>1309.000000</td>\n",
       "      <td>1308.000000</td>\n",
       "      <td>121.000000</td>\n",
       "    </tr>\n",
       "    <tr>\n",
       "      <th>mean</th>\n",
       "      <td>2.294882</td>\n",
       "      <td>29.881135</td>\n",
       "      <td>0.498854</td>\n",
       "      <td>0.385027</td>\n",
       "      <td>33.295479</td>\n",
       "      <td>160.809917</td>\n",
       "    </tr>\n",
       "    <tr>\n",
       "      <th>std</th>\n",
       "      <td>0.837836</td>\n",
       "      <td>14.413500</td>\n",
       "      <td>1.041658</td>\n",
       "      <td>0.865560</td>\n",
       "      <td>51.758668</td>\n",
       "      <td>97.696922</td>\n",
       "    </tr>\n",
       "    <tr>\n",
       "      <th>min</th>\n",
       "      <td>1.000000</td>\n",
       "      <td>0.166700</td>\n",
       "      <td>0.000000</td>\n",
       "      <td>0.000000</td>\n",
       "      <td>0.000000</td>\n",
       "      <td>1.000000</td>\n",
       "    </tr>\n",
       "    <tr>\n",
       "      <th>25%</th>\n",
       "      <td>2.000000</td>\n",
       "      <td>21.000000</td>\n",
       "      <td>0.000000</td>\n",
       "      <td>0.000000</td>\n",
       "      <td>7.895800</td>\n",
       "      <td>72.000000</td>\n",
       "    </tr>\n",
       "    <tr>\n",
       "      <th>50%</th>\n",
       "      <td>3.000000</td>\n",
       "      <td>28.000000</td>\n",
       "      <td>0.000000</td>\n",
       "      <td>0.000000</td>\n",
       "      <td>14.454200</td>\n",
       "      <td>155.000000</td>\n",
       "    </tr>\n",
       "    <tr>\n",
       "      <th>75%</th>\n",
       "      <td>3.000000</td>\n",
       "      <td>39.000000</td>\n",
       "      <td>1.000000</td>\n",
       "      <td>0.000000</td>\n",
       "      <td>31.275000</td>\n",
       "      <td>256.000000</td>\n",
       "    </tr>\n",
       "    <tr>\n",
       "      <th>max</th>\n",
       "      <td>3.000000</td>\n",
       "      <td>80.000000</td>\n",
       "      <td>8.000000</td>\n",
       "      <td>9.000000</td>\n",
       "      <td>512.329200</td>\n",
       "      <td>328.000000</td>\n",
       "    </tr>\n",
       "  </tbody>\n",
       "</table>\n",
       "</div>"
      ]
     },
     "metadata": {},
     "execution_count": 128
    }
   ],
   "metadata": {}
  },
  {
   "cell_type": "markdown",
   "source": [
    "<h3><b> Preview the center and dispersion of the features </b></h3>\r\n",
    "\r\n",
    "The mean fare was approximately 33 pounds which does not seem so expensive (but it was probably a lot of money back then). The mean age was less than 30 years old."
   ],
   "metadata": {}
  },
  {
   "cell_type": "code",
   "execution_count": 129,
   "source": [
    "%matplotlib inline\r\n",
    "import matplotlib.pyplot as plt\r\n",
    "X.hist(bins=50, figsize=(20, 15))\r\n",
    "plt.show()"
   ],
   "outputs": [
    {
     "output_type": "display_data",
     "data": {
      "text/plain": [
       "<Figure size 1440x1080 with 6 Axes>"
      ],
      "image/png": "[encoded data removed]"
     },
     "metadata": {
      "needs_background": "light"
     }
    }
   ],
   "metadata": {}
  },
  {
   "cell_type": "markdown",
   "source": [
    "<h3><b>Plot the distributions for the features</b></h3>\r\n",
    "\r\n",
    "The three keys to describing the distributions are shape, center, and spread.\r\n",
    "Consider clusters, gaps, modes, and outliers.\r\n",
    "Look for reasons behind any unusual features.\r\n",
    "\r\n",
    "Shape:\r\n",
    ">A few common shapes are symmetric, skewed to the right, skewed to the left, bell-shaped, and uniform distributions. Consider transforming tail-heavy distributions to be more bell-shaped.\r\n",
    "\r\n",
    "Spread:\r\n",
    ">Check whether the end values in the range have been capped. For these capped values, either collect actual values to replace the capped values or remove the values from the dataset (The system should not be evaluated poorly if it predicts values beyond the capped values).\r\n",
    "\r\n",
    ">Understand the units for each distribution, whether any scaling has been applied. Consider apply feature scaling for features with different scales (Machine Learning algorithms usually don’t perform well when the input numerical attributes have very different scales).\r\n",
    "\r\n",
    "We're ignoring the fare and body attributes for now, so don't need to look into much for these distributions. The pclass is a categorical attribute and the sbisp, parch attributes are discrete values - these all show the expected distributions.\r\n",
    "\r\n",
    "The age distribution seems to have the expected shape of a normal distribution and does not seem to have any capped values."
   ],
   "metadata": {}
  },
  {
   "cell_type": "code",
   "execution_count": 130,
   "source": [
    "%matplotlib inline\r\n",
    "import matplotlib.pyplot as plt\r\n",
    "import numpy as np\r\n",
    "import pandas as pd\r\n",
    "\r\n",
    "# Create a pandas series with numbers instead of string ('0', '1')\r\n",
    "# Most ML algorithms expect numbers, not strings\r\n",
    "y = y.astype(np.uint8)\r\n",
    "y.hist()\r\n",
    "plt.show()\r\n",
    "\r\n",
    "# Display how many out of the total passengers survived\r\n",
    "print(y.mean())"
   ],
   "outputs": [
    {
     "output_type": "display_data",
     "data": {
      "text/plain": [
       "<Figure size 432x288 with 1 Axes>"
      ],
      "image/png": "[encoded data removed]"
     },
     "metadata": {
      "needs_background": "light"
     }
    },
    {
     "output_type": "stream",
     "name": "stdout",
     "text": [
      "0.3819709702062643\n"
     ]
    }
   ],
   "metadata": {}
  },
  {
   "cell_type": "markdown",
   "source": [
    "<h2 style=\"background-color:rgba(100,100,100,0.5);\"> Sample the data for testing and training purposes </h2>\r\n",
    "\r\n",
    "Scikit-Learn provides a few functions to split datasets into multiple subsets in various ways. The simplest function is train_test_split(), we'll use this with the random_state parameter. Also, since this function can accept multiple datasets with an identical number of rows, and it will split them on the same indices, we can use it to split both the data and target (we'll use stratify on the target so the test and training data will have similar distribution for the target as the original data)."
   ],
   "metadata": {}
  },
  {
   "cell_type": "code",
   "execution_count": 181,
   "source": [
    "from sklearn.model_selection import train_test_split\r\n",
    "\r\n",
    "X_train, X_test, y_train, y_test = train_test_split(X, y, stratify=y, test_size=0.2)"
   ],
   "outputs": [],
   "metadata": {}
  },
  {
   "cell_type": "markdown",
   "source": [
    "<h2 style=\"background-color:rgba(100,100,100,0.5);\"> Discover and visualize the data to gain insights </h2>"
   ],
   "metadata": {}
  },
  {
   "cell_type": "markdown",
   "source": [
    "First, make sure you have put the test set aside and you are only exploring the training set. Also, if the training set is very large, you may want to sample an exploration set, to make manipulations easy and fast. In our case, the set is quite small, so you can just work directly on the full set. Let’s create a copy so that you can play with it without harming the training set:"
   ],
   "metadata": {}
  },
  {
   "cell_type": "code",
   "execution_count": 132,
   "source": [
    "titanic = X_train.copy()"
   ],
   "outputs": [],
   "metadata": {}
  },
  {
   "cell_type": "markdown",
   "source": [
    "<h3><b>Experimenting with Attribute Combinations</b></h3>\r\n",
    "\r\n",
    "Sometimes, weakly correlated features can be combined together to form a new feature, which might exhibit higher correlation with respect to the target. Identify any attribute combinations that might be more correlated to the target value."
   ],
   "metadata": {}
  },
  {
   "cell_type": "code",
   "execution_count": 133,
   "source": [
    "# https://jaketae.github.io/study/sklearn-pipeline/\r\n",
    "# We can combine parch and sibsp into a new feature, called family_size. \r\n",
    "# Strictly speaking, we would have to add 1, but adding all values by one corresponds to shifting\r\n",
    "# everything by a constant value, which will not affect modeling since such constant adjustments\r\n",
    "# will be taken care of by the preprocessing step anyway.\r\n",
    "\r\n",
    "titanic[\"family_size\"] = titanic[\"parch\"] + titanic[\"sibsp\"]\r\n",
    "titanic.drop([\"parch\", \"sibsp\"], axis=1, inplace=True)\r\n",
    "\r\n",
    "# We can add a title (obtained from name), update rare titles\r\n",
    "titanic[\"title\"] = titanic[\"name\"].str.split(\", \", expand=True)[1].str.split(\".\", expand=True)[0]\r\n",
    "titanic.drop([\"name\"], axis=1, inplace=True)\r\n",
    "\r\n",
    "rare_titles = (titanic[\"title\"].value_counts() < 10)\r\n",
    "titanic[\"title\"].loc[titanic.title == 'Miss'] = 'Mrs'\r\n",
    "titanic[\"title\"] = titanic.title.apply(lambda x: 'rare' if rare_titles[x] else x)\r\n",
    "\r\n",
    "print(titanic.head())"
   ],
   "outputs": [
    {
     "output_type": "stream",
     "name": "stdout",
     "text": [
      "      pclass     sex   age    ticket      fare cabin embarked  boat  body  \\\n",
      "191      1.0    male  30.0    113801   45.5000  None        S  None   NaN   \n",
      "373      2.0  female  28.0      2003   26.0000  None        S    14   NaN   \n",
      "1165     3.0    male  25.0      2672    7.2250  None        C  None   NaN   \n",
      "705      3.0    male   NaN      2689   14.4583  None        C  None   NaN   \n",
      "229      1.0  female  17.0  PC 17758  108.9000   C65        C     8   NaN   \n",
      "\n",
      "                        home.dest  family_size title  \n",
      "191         London / New York, NY          0.0    Mr  \n",
      "373   England / San Francisco, CA          1.0   Mrs  \n",
      "1165                         None          0.0    Mr  \n",
      "705                    Ottawa, ON          1.0    Mr  \n",
      "229                 Madrid, Spain          1.0   Mrs  \n"
     ]
    },
    {
     "output_type": "stream",
     "name": "stderr",
     "text": [
      "C:\\Program Files\\Python39\\lib\\site-packages\\pandas\\core\\indexing.py:1637: SettingWithCopyWarning: \n",
      "A value is trying to be set on a copy of a slice from a DataFrame\n",
      "\n",
      "See the caveats in the documentation: https://pandas.pydata.org/pandas-docs/stable/user_guide/indexing.html#returning-a-view-versus-a-copy\n",
      "  self._setitem_single_block(indexer, value, name)\n"
     ]
    }
   ],
   "metadata": {}
  },
  {
   "cell_type": "markdown",
   "source": [
    "<h2 style=\"background-color:rgba(100,100,100,0.5);\"> Prepare the Data for Machine Learning Algorithms </h2>\r\n",
    "\r\n",
    "Data cleaning is required for this data set to clean up missing attributes.\r\n",
    "\r\n",
    "Feature scaling can be useful to improve the performance of the models.\r\n",
    "\r\n",
    "Custom transformation is needed (as seen above) to add family_size and title attributes."
   ],
   "metadata": {}
  },
  {
   "cell_type": "markdown",
   "source": [
    "Ffirst let’s revert to a clean training set (by copying X_train once again):"
   ],
   "metadata": {}
  },
  {
   "cell_type": "code",
   "execution_count": 134,
   "source": [
    "titanic = X_train.copy()"
   ],
   "outputs": [],
   "metadata": {}
  },
  {
   "cell_type": "markdown",
   "source": [
    "<h3><b> Data Cleaning - Missing attributes </b></h3>"
   ],
   "metadata": {}
  },
  {
   "cell_type": "markdown",
   "source": [
    "Most Machine Learning algorithms cannot work with missing features, so let’s create a few functions to take care of them. We earlier identified the attributes with missing values, so let’s fix this. You have three options:\r\n",
    "\r\n",
    "<ol type=\"1\">\r\n",
    "    <li>Get rid of the corresponding districts</li>\r\n",
    "    <li>Get rid of the whole attribute</li>\r\n",
    "    <li>Set the values to some value (zero, the mean, the median etc.)</li>\r\n",
    "</ol>\r\n",
    "\r\n",
    "You can accomplish these easily using DataFrame’s dropna(), drop(), and fillna() methods:"
   ],
   "metadata": {}
  },
  {
   "cell_type": "code",
   "execution_count": 135,
   "source": [
    "titanic.drop(\"cabin\", axis=1, inplace=True)       # option 2\r\n",
    "titanic.drop(\"boat\", axis=1, inplace=True)       # option 2\r\n",
    "titanic.drop(\"body\", axis=1, inplace=True)       # option 2\r\n",
    "titanic.drop(\"home.dest\", axis=1, inplace=True)       # option 2\r\n",
    "titanic.drop(\"ticket\", axis=1, inplace=True)       # option 2\r\n",
    "\r\n",
    "print(titanic.head())"
   ],
   "outputs": [
    {
     "output_type": "stream",
     "name": "stdout",
     "text": [
      "      pclass                                               name     sex   age  \\\n",
      "191      1.0                         Loring, Mr. Joseph Holland    male  30.0   \n",
      "373      2.0        Clarke, Mrs. Charles V (Ada Maria Winfield)  female  28.0   \n",
      "1165     3.0                                   Saad, Mr. Khalil    male  25.0   \n",
      "705      3.0                                  Caram, Mr. Joseph    male   NaN   \n",
      "229      1.0  Penasco y Castellana, Mrs. Victor de Satode (M...  female  17.0   \n",
      "\n",
      "      sibsp  parch      fare embarked  \n",
      "191     0.0    0.0   45.5000        S  \n",
      "373     1.0    0.0   26.0000        S  \n",
      "1165    0.0    0.0    7.2250        C  \n",
      "705     1.0    0.0   14.4583        C  \n",
      "229     1.0    0.0  108.9000        C  \n"
     ]
    }
   ],
   "metadata": {}
  },
  {
   "cell_type": "markdown",
   "source": [
    "For the age, fare and embarked missing values, we'll use the imputer directly in the pipeline later to transform the missing values."
   ],
   "metadata": {}
  },
  {
   "cell_type": "markdown",
   "source": [
    "<h3><b> Data Cleaning - Handling text and categorical attributes </b></h3>\r\n",
    "\r\n",
    "Most Machine Learning algorithms prefer to work with numbers, so convert categories from text to numbers.\r\n",
    "\r\n",
    "For this, we will use the encoder directly in the pipeline later to encode these values."
   ],
   "metadata": {}
  },
  {
   "cell_type": "markdown",
   "source": [
    "<h3><b> Feature Scaling </b></h2>\r\n",
    "\r\n",
    "One of the most important transformations you need to apply to your data is feature scaling. \r\n",
    "\r\n",
    "For this, we will use the scaler directly in the pipeline later to scale these values."
   ],
   "metadata": {}
  },
  {
   "cell_type": "markdown",
   "source": [
    "<h3><b> Custom Transformers </b></h3>\r\n",
    "\r\n",
    "Although Scikit-Learn provides many useful transformers, you will need to write your own for tasks such as custom cleanup operations or combining specific attributes. You will want your transformer to work seamlessly with Scikit-Learn functionalities (such as pipelines), and since Scikit-Learn relies on duck typing (not inheritance), all you need to do is create a class and implement three methods: fit() (returning self), transform(), and fit_transform().\r\n",
    "\r\n",
    "You can get the last one for free by simply adding TransformerMixin as a base class. If you add BaseEstimator as a base class (and avoid *args and **kargs in your constructor), you will also get two extra methods (get_params() and set_params()) that will be useful for automatic hyperparameter tuning."
   ],
   "metadata": {}
  },
  {
   "cell_type": "code",
   "execution_count": 136,
   "source": [
    "from sklearn.base import BaseEstimator, TransformerMixin\r\n",
    "\r\n",
    "class CombinedNumAttributesAdder(BaseEstimator, TransformerMixin):\r\n",
    "    def __init__(self, add_family_size=True, delete_parch_sibsp=True):\r\n",
    "        self.add_family_size = add_family_size\r\n",
    "        self.delete_parch_sibsp = delete_parch_sibsp\r\n",
    "    def fit(self, X, y=None):\r\n",
    "        return self # nothing else to do\r\n",
    "    def transform(self, X):\r\n",
    "        X_transform = X.copy()        \r\n",
    "\r\n",
    "        if self.add_family_size:\r\n",
    "            X_transform[\"family_size\"] = X_transform[\"parch\"] + X_transform[\"sibsp\"]\r\n",
    "        if self.delete_parch_sibsp:\r\n",
    "            X_transform.drop([\"parch\", \"sibsp\"], axis=1, inplace=True)\r\n",
    "\r\n",
    "        return X_transform\r\n",
    "\r\n",
    "class CombinedCatAttributesAdder(BaseEstimator, TransformerMixin):\r\n",
    "    def __init__(self, add_title=True, delete_name=True):\r\n",
    "        self.add_title = add_title\r\n",
    "        self.delete_name = delete_name\r\n",
    "    def fit(self, X, y=None):\r\n",
    "        return self # nothing else to do\r\n",
    "    def transform(self, X):\r\n",
    "        X_transform = X.copy()        \r\n",
    "\r\n",
    "        if self.add_title:\r\n",
    "            X_transform[\"title\"] = X_transform[\"name\"].str.split(\", \", expand=True)[1].str.split(\".\", expand=True)[0]\r\n",
    "            rare_titles = (X_transform[\"title\"].value_counts() < 10)\r\n",
    "            X_transform[\"title\"].loc[X_transform.title == 'Miss'] = 'Mrs'\r\n",
    "            X_transform[\"title\"] = X_transform.title.apply(lambda x: 'rare' if rare_titles[x] else x)\r\n",
    "        if self.delete_name:\r\n",
    "            X_transform.drop([\"name\"], axis=1, inplace=True)\r\n",
    "\r\n",
    "        return X_transform\r\n",
    "\r\n",
    "num_attr_adder = CombinedNumAttributesAdder()\r\n",
    "cat_attr_adder = CombinedCatAttributesAdder()\r\n",
    "\r\n",
    "titanic_extra_attribs = cat_attr_adder.transform(num_attr_adder.transform(titanic))\r\n",
    "\r\n",
    "print(titanic_extra_attribs.head())"
   ],
   "outputs": [
    {
     "output_type": "stream",
     "name": "stdout",
     "text": [
      "      pclass     sex   age      fare embarked  family_size title\n",
      "191      1.0    male  30.0   45.5000        S          0.0    Mr\n",
      "373      2.0  female  28.0   26.0000        S          1.0   Mrs\n",
      "1165     3.0    male  25.0    7.2250        C          0.0    Mr\n",
      "705      3.0    male   NaN   14.4583        C          1.0    Mr\n",
      "229      1.0  female  17.0  108.9000        C          1.0   Mrs\n"
     ]
    },
    {
     "output_type": "stream",
     "name": "stderr",
     "text": [
      "C:\\Program Files\\Python39\\lib\\site-packages\\pandas\\core\\indexing.py:1637: SettingWithCopyWarning: \n",
      "A value is trying to be set on a copy of a slice from a DataFrame\n",
      "\n",
      "See the caveats in the documentation: https://pandas.pydata.org/pandas-docs/stable/user_guide/indexing.html#returning-a-view-versus-a-copy\n",
      "  self._setitem_single_block(indexer, value, name)\n"
     ]
    }
   ],
   "metadata": {}
  },
  {
   "cell_type": "markdown",
   "source": [
    "<h3><b> Transformation Pipelines </b></h3>\r\n",
    "\r\n",
    "Scikit-Learn provides the Pipeline class to help with sequences of transformations.\r\n",
    "\r\n",
    "Pipeline for numerical attributes:"
   ],
   "metadata": {}
  },
  {
   "cell_type": "markdown",
   "source": [
    "Since the default imputer returns a numpy array but our custom transformer (for adding attributes) deals with pandas dataframe, we can write a wrapper class to return a dataframe instead."
   ],
   "metadata": {}
  },
  {
   "cell_type": "code",
   "execution_count": 137,
   "source": [
    "from sklearn.impute import SimpleImputer\r\n",
    "\r\n",
    "class PandasSimpleImputer(SimpleImputer):\r\n",
    "    \"\"\"A wrapper around `SimpleImputer` to return data frames with columns.\r\n",
    "    \"\"\"\r\n",
    "    def fit(self, X, y=None):\r\n",
    "        self.columns = X.columns\r\n",
    "        return super().fit(X, y)\r\n",
    "\r\n",
    "    def transform(self, X):\r\n",
    "        return pd.DataFrame(super().transform(X), columns=self.columns)"
   ],
   "outputs": [],
   "metadata": {}
  },
  {
   "cell_type": "code",
   "execution_count": 138,
   "source": [
    "from sklearn.pipeline import Pipeline\r\n",
    "from sklearn.preprocessing import RobustScaler\r\n",
    "\r\n",
    "num_pipeline = Pipeline([\r\n",
    "    ('imputer', PandasSimpleImputer(strategy=\"median\")),\r\n",
    "    ('attribs_adder', CombinedNumAttributesAdder()),\r\n",
    "    ('robust_scaler', RobustScaler())\r\n",
    "])\r\n",
    "\r\n",
    "cat_attribs = [\"pclass\", \"name\", \"sex\", \"embarked\"]\r\n",
    "titanic_num = titanic.drop(cat_attribs, axis=1)\r\n",
    "titanic_num_tr = num_pipeline.fit_transform(titanic_num)"
   ],
   "outputs": [],
   "metadata": {}
  },
  {
   "cell_type": "markdown",
   "source": [
    "Pipeline for categorical attributes:"
   ],
   "metadata": {}
  },
  {
   "cell_type": "code",
   "execution_count": 139,
   "source": [
    "from sklearn.preprocessing import OneHotEncoder\r\n",
    "from sklearn.decomposition import PCA\r\n",
    "\r\n",
    "cat_pipeline = Pipeline([\r\n",
    "    ('imputer', PandasSimpleImputer(strategy=\"most_frequent\")),\r\n",
    "    ('attribs_adder', CombinedCatAttributesAdder()),\r\n",
    "    ('onehot', OneHotEncoder(handle_unknown='ignore', sparse=False)),\r\n",
    "    ('pca', PCA(n_components=10))\r\n",
    "])\r\n",
    "\r\n",
    "num_attribs = [\"age\", \"sibsp\", \"parch\", \"fare\"]\r\n",
    "titanic_cat = titanic.drop(num_attribs, axis=1)\r\n",
    "titanic_cat_tr = cat_pipeline.fit_transform(titanic_cat)"
   ],
   "outputs": [],
   "metadata": {}
  },
  {
   "cell_type": "markdown",
   "source": [
    "<h3><b> Single Transformer Composition </b></h3>\r\n",
    "\r\n",
    "So far, we have handled the categorical columns and the numerical columns separately. It would be more convenient to have a single transformer able to handle all columns, applying the appropriate transformations to each column. In version 0.20, Scikit-Learn introduced the ColumnTransformer for this purpose"
   ],
   "metadata": {}
  },
  {
   "cell_type": "code",
   "execution_count": 140,
   "source": [
    "from sklearn.compose import ColumnTransformer\r\n",
    "\r\n",
    "full_pipeline = ColumnTransformer([\r\n",
    "    (\"num\", num_pipeline, num_attribs),\r\n",
    "    (\"cat\", cat_pipeline, cat_attribs),\r\n",
    "])\r\n",
    "\r\n",
    "titanic_prepared = full_pipeline.fit_transform(titanic)"
   ],
   "outputs": [],
   "metadata": {}
  },
  {
   "cell_type": "markdown",
   "source": [
    "<h2 style=\"background-color:rgba(100,100,100,0.5);\"> Select and Train Models </h2>\r\n",
    "\r\n",
    "Select a model that you think might work best first. Train and evaluate the performance of this model. The model might fit correctly, underfit or overfit the actual data.\r\n",
    "\r\n",
    "The general approach when a particular model doesn't quite fit perfectly, is to try out many other models from various categories of Machine Learning algorithms (e.g., several Support Vector Machines with different kernels, and possibly a neural network), without spending too much time tweaking the hyperparameters for a particular model.\r\n",
    "\r\n",
    "The goal is to shortlist a few (two to five) promising models.\r\n"
   ],
   "metadata": {}
  },
  {
   "cell_type": "markdown",
   "source": [
    "<h3><b> Training and Evaluating on the Training Set </b></h3>\r\n",
    "\r\n",
    "Select a model to train and evaluate on the data set.\r\n",
    "\r\n",
    "Let's start with the RandomForestClassifier."
   ],
   "metadata": {}
  },
  {
   "cell_type": "markdown",
   "source": [
    "<h3><b> Predict values for some data inputs </b></h3>"
   ],
   "metadata": {}
  },
  {
   "cell_type": "code",
   "execution_count": 141,
   "source": [
    "from sklearn.ensemble import RandomForestClassifier\r\n",
    "\r\n",
    "forest_clf = RandomForestClassifier(random_state=42)\r\n",
    "\r\n",
    "forest_clf.fit(titanic_prepared, y_train)\r\n",
    "\r\n",
    "print(forest_clf.predict(titanic_prepared[:1]))"
   ],
   "outputs": [
    {
     "output_type": "stream",
     "name": "stdout",
     "text": [
      "[0]\n"
     ]
    }
   ],
   "metadata": {}
  },
  {
   "cell_type": "markdown",
   "source": [
    "<h3><b> Measure the performance of the model on the whole training set </b></h3>\r\n",
    "\r\n",
    "Evaluating a classifier is often significantly trickier than evaluating a regressor. There are many performance measures available.\r\n",
    "\r\n",
    "One measure is Accurracy, let's use K-fold cross validation to measure the accurracy."
   ],
   "metadata": {}
  },
  {
   "cell_type": "code",
   "execution_count": 142,
   "source": [
    "from sklearn.model_selection import cross_val_score\r\n",
    "\r\n",
    "cross_val_score(forest_clf, titanic_prepared, y_train, cv=3, scoring=\"accuracy\")"
   ],
   "outputs": [
    {
     "output_type": "execute_result",
     "data": {
      "text/plain": [
       "array([0.80229226, 0.83094556, 0.79942693])"
      ]
     },
     "metadata": {},
     "execution_count": 142
    }
   ],
   "metadata": {}
  },
  {
   "cell_type": "markdown",
   "source": [
    "We have an accuracy of around 78% (on average)."
   ],
   "metadata": {}
  },
  {
   "cell_type": "markdown",
   "source": [
    "<h3><b> Confusion Matrix </b></h3>\r\n",
    "\r\n",
    "Just like the cross_val_score() function, cross_val_predict() performs K-fold cross-validation, but instead of returning the evaluation scores, it returns the predictions made on each test fold.\r\n",
    "\r\n",
    "This means that you get a clean prediction for each instance in the training set (“clean” meaning that the prediction is made by a model that never saw the data during training).\r\n",
    "\r\n"
   ],
   "metadata": {}
  },
  {
   "cell_type": "code",
   "execution_count": 143,
   "source": [
    "from sklearn.model_selection import cross_val_predict\r\n",
    "from sklearn.metrics import confusion_matrix\r\n",
    "\r\n",
    "y_train_pred = cross_val_predict(forest_clf, titanic_prepared, y_train, cv=3)\r\n",
    "confusion_matrix(y_train, y_train_pred)"
   ],
   "outputs": [
    {
     "output_type": "execute_result",
     "data": {
      "text/plain": [
       "array([[555,  92],\n",
       "       [106, 294]], dtype=int64)"
      ]
     },
     "metadata": {},
     "execution_count": 143
    }
   ],
   "metadata": {}
  },
  {
   "cell_type": "markdown",
   "source": [
    "<h3><b> Precision and Recall </b></h3>\r\n",
    "\r\n",
    "precision = TP/(TP + FP)\r\n",
    "\r\n",
    "recall = TP/(TP + FN) (also called sensitivity, true positive rate (TPR))\r\n",
    "\r\n",
    "Other terms:\r\n",
    "\r\n",
    "FPR = FP/(FP + TN)\r\n",
    "\r\n",
    "TNR = TN/(FP + TN) (also called specificity)"
   ],
   "metadata": {}
  },
  {
   "cell_type": "code",
   "execution_count": 144,
   "source": [
    "from sklearn.metrics import precision_score, recall_score\r\n",
    "\r\n",
    "print(precision_score(y_train, y_train_pred))\r\n",
    "print(recall_score(y_train, y_train_pred))"
   ],
   "outputs": [
    {
     "output_type": "stream",
     "name": "stdout",
     "text": [
      "0.7616580310880829\n",
      "0.735\n"
     ]
    }
   ],
   "metadata": {}
  },
  {
   "cell_type": "markdown",
   "source": [
    "<h3><b> F1 score </b></h3>\r\n",
    "\r\n",
    "<img src=\"images/f1.png\">\r\n"
   ],
   "metadata": {}
  },
  {
   "cell_type": "code",
   "execution_count": 145,
   "source": [
    "from sklearn.metrics import f1_score\r\n",
    "\r\n",
    "print(f1_score(y_train, y_train_pred))"
   ],
   "outputs": [
    {
     "output_type": "stream",
     "name": "stdout",
     "text": [
      "0.7480916030534353\n"
     ]
    }
   ],
   "metadata": {}
  },
  {
   "cell_type": "markdown",
   "source": [
    "The F1 score favors classifiers that have similar precision and recall. This is not always what you want: in some contexts you mostly care about precision, and in other contexts you really care about recall.\r\n",
    "\r\n",
    "For example, if you trained a classifier to detect videos that are safe for kids, you would probably prefer a classifier that rejects many good videos (low recall) but keeps only safe ones (high precision), rather than a classifier that has a much higher recall but lets a few really bad videos show up in your product (in such cases, you may even want to add a human pipeline to check the classifier’s video selection).\r\n",
    "\r\n",
    "On the other hand, suppose you train a classifier to detect shoplifters in surveillance images: it is probably fine if your classifier has only 30% precision as long as it has 99% recall (sure, the security guards will get a few false alerts, but almost all shoplifters will get caught).\r\n",
    "\r\n",
    "Unfortunately, you can’t have it both ways: increasing precision reduces recall, and vice versa. This is called the <b><i>precision/recall trade-off</i></b>."
   ],
   "metadata": {}
  },
  {
   "cell_type": "markdown",
   "source": [
    "<h3><b> Precision-Recall (PR) Curve </b></h3>\r\n",
    "\r\n",
    "The plots of precision and recall for different threshold values is called the PR curve.\r\n",
    "\r\n",
    " The RandomForestClassifier class has a predict_proba() method which returns an array containing a row per instance and a column per class, each containing the probability that the given instance belongs to the given class:"
   ],
   "metadata": {}
  },
  {
   "cell_type": "code",
   "execution_count": 146,
   "source": [
    "from sklearn.metrics import precision_recall_curve\r\n",
    "\r\n",
    "y_probas = cross_val_predict(forest_clf, titanic_prepared, y_train, cv=3,\r\n",
    "                             method=\"predict_proba\")\r\n",
    "\r\n",
    "y_scores = y_probas[:, 1]   # score = probability of positive class\r\n",
    "\r\n",
    "precisions, recalls, thresholds = precision_recall_curve(y_train, y_scores)\r\n",
    "\r\n",
    "def plot_precision_recall_vs_threshold(precisions, recalls, thresholds):\r\n",
    "    plt.plot(thresholds, precisions[:-1], \"b--\", label=\"Precision\")\r\n",
    "    plt.plot(thresholds, recalls[:-1], \"g-\", label=\"Recall\")\r\n",
    "    [...] # highlight the threshold and add the legend, axis label, and grid\r\n",
    "\r\n",
    "plot_precision_recall_vs_threshold(precisions, recalls, thresholds)\r\n",
    "plt.show()"
   ],
   "outputs": [
    {
     "output_type": "display_data",
     "data": {
      "text/plain": [
       "<Figure size 432x288 with 1 Axes>"
      ],
      "image/png": "[encoded data removed]"
     },
     "metadata": {
      "needs_background": "light"
     }
    }
   ],
   "metadata": {}
  },
  {
   "cell_type": "code",
   "execution_count": 147,
   "source": [
    "plt.plot(recalls, precisions, \"b--\",)\r\n",
    "plt.show()"
   ],
   "outputs": [
    {
     "output_type": "display_data",
     "data": {
      "text/plain": [
       "<Figure size 432x288 with 1 Axes>"
      ],
      "image/png": "[encoded data removed]"
     },
     "metadata": {
      "needs_background": "light"
     }
    }
   ],
   "metadata": {}
  },
  {
   "cell_type": "markdown",
   "source": [
    "You can see that precision really starts to fall sharply around 80% recall. You will probably want to select a precision/recall trade-off just before that drop—for example, at around 60% recall. But of course, the choice depends on your project.\r\n",
    "\r\n",
    "Suppose you decide to aim for 90% precision. You look up the first plot and find the threshold value.\r\n",
    "\r\n",
    "To be more precise you can search for the lowest threshold that gives you at least 90% precision. To make predictions (on the training set for now), instead of calling the classifier’s predict() method, you can use the threshold with the scores:"
   ],
   "metadata": {}
  },
  {
   "cell_type": "code",
   "execution_count": 148,
   "source": [
    "y_train_pred_90 = (y_scores >= .9)\r\n",
    "\r\n",
    "print(precision_score(y_train, y_train_pred_90))\r\n",
    "print(recall_score(y_train, y_train_pred_90))"
   ],
   "outputs": [
    {
     "output_type": "stream",
     "name": "stdout",
     "text": [
      "0.9166666666666666\n",
      "0.44\n"
     ]
    }
   ],
   "metadata": {}
  },
  {
   "cell_type": "markdown",
   "source": [
    "The default threshold value is .5. This corresponds to saying that surviving vs not surviving is 50% probable. So, if the probability score is greater than .5, we're accepting it as a survival 5 and if it is less than .5, we're accepting it as not a survival. \r\n",
    "\r\n",
    "Here, we're changing this threshold value to be .9 and evaluate what scores we get for the precision and recall.\r\n",
    "\r\n",
    "Great, you have a 90% precision classifier! As you can see, it is fairly easy to create a classifier with virtually any precision you want: just set a high enough threshold, and you’re done. But wait, not so fast. A high-precision classifier is not very useful if its recall is too low!\r\n",
    "\r\n",
    "If someone says, “Let’s reach 99% precision,” you should ask, “At what recall?”"
   ],
   "metadata": {}
  },
  {
   "cell_type": "markdown",
   "source": [
    "<h3><b> ROC Curve </b></h3>\r\n",
    "\r\n",
    "The receiver operating characteristic (ROC) curve is another common tool used with binary classifiers.\r\n",
    "\r\n",
    "It is very similar to the precision/recall curve, but instead of plotting precision versus recall, the ROC curve plots the true positive rate (another name for recall) against the false positive rate (FPR). The FPR is the ratio of negative instances that are incorrectly classified as positive. It is equal to 1 – the true negative rate (TNR), which is the ratio of negative instances that are correctly classified as negative. The TNR is also called specificity.\r\n",
    "\r\n",
    "Hence, the ROC curve plots sensitivity (recall) versus 1 – specificity."
   ],
   "metadata": {}
  },
  {
   "cell_type": "code",
   "execution_count": 149,
   "source": [
    "from sklearn.metrics import roc_curve\r\n",
    "\r\n",
    "fpr, tpr, thresholds = roc_curve(y_train, y_scores)"
   ],
   "outputs": [],
   "metadata": {}
  },
  {
   "cell_type": "code",
   "execution_count": 161,
   "source": [
    "def plot_roc_curve(fpr, tpr, label=None):\r\n",
    "    plt.plot(fpr, tpr, linewidth=2, label=label)\r\n",
    "    plt.plot([0, 1], [0, 1], 'k--') # Dashed diagonal\r\n",
    "    [...] # Add axis labels and grid\r\n",
    "\r\n",
    "plot_roc_curve(fpr, tpr)\r\n",
    "plt.show()"
   ],
   "outputs": [
    {
     "output_type": "display_data",
     "data": {
      "text/plain": [
       "<Figure size 432x288 with 1 Axes>"
      ],
      "image/png": "[encoded data removed]"
     },
     "metadata": {
      "needs_background": "light"
     }
    }
   ],
   "metadata": {}
  },
  {
   "cell_type": "markdown",
   "source": [
    "Once again there is a trade-off: the higher the recall (TPR), the more false positives (FPR) the classifier produces. The dotted line represents the ROC curve of a purely random classifier; a good classifier stays as far away from that line as possible (toward the top-left corner).\n",
    "\n",
    "One way to compare classifiers is to measure the area under the curve (AUC). A perfect classifier will have a ROC AUC equal to 1, whereas a purely random classifier will have a ROC AUC equal to 0.5. Scikit-Learn provides a function to compute the ROC AUC:"
   ],
   "metadata": {}
  },
  {
   "cell_type": "code",
   "execution_count": 151,
   "source": [
    "from sklearn.metrics import roc_auc_score\r\n",
    "\r\n",
    "print(roc_auc_score(y_train, y_scores))"
   ],
   "outputs": [
    {
     "output_type": "stream",
     "name": "stdout",
     "text": [
      "0.8569513137557959\n"
     ]
    }
   ],
   "metadata": {}
  },
  {
   "cell_type": "markdown",
   "source": [
    "<h3><b> ROC vs PR Curve </b></h3>\r\n",
    "\r\n",
    "Since the ROC curve is so similar to the precision/recall (PR) curve, you may wonder how to decide which one to use.\r\n",
    "\r\n",
    "As a rule of thumb, you should prefer the PR curve whenever the positive class is rare or when you care more about the false positives than the false negatives. Otherwise, use the ROC curve."
   ],
   "metadata": {}
  },
  {
   "cell_type": "markdown",
   "source": [
    "<h3><b> Try other models and measure scores </b></h3>"
   ],
   "metadata": {}
  },
  {
   "cell_type": "markdown",
   "source": [
    "Let’s now train a SGDClassifier and compare its ROC curve and ROC AUC score to those of the RandomForestClassifier. First, you need to get scores for each instance in the training set. We can use the decision_function() method of the SGDClassifier class to get the scores (equivalent to the predict_proba() method of the RandomForestClassifier class). Scikit-Learn classifiers generally have one or the other, or both."
   ],
   "metadata": {}
  },
  {
   "cell_type": "code",
   "execution_count": 159,
   "source": [
    "from sklearn.linear_model import SGDClassifier\r\n",
    "\r\n",
    "sgd_clf = SGDClassifier()\r\n",
    "y_scores_sgd = cross_val_predict(sgd_clf, titanic_prepared, y_train, cv=3,\r\n",
    "                             method=\"decision_function\")\r\n",
    "\r\n",
    "fpr_sgd, tpr_sgd, thresholds_sgd = roc_curve(y_train, y_scores_sgd)"
   ],
   "outputs": [],
   "metadata": {}
  },
  {
   "cell_type": "markdown",
   "source": [
    "Now you are ready to plot the ROC curve. It is useful to plot the first ROC curve as well to see how they compare."
   ],
   "metadata": {}
  },
  {
   "cell_type": "code",
   "execution_count": 158,
   "source": [
    "plt.plot(fpr, tpr, \"b:\", label=\"Random Forest\")\r\n",
    "plot_roc_curve(fpr_sgd, tpr_sgd, \"SGD\")\r\n",
    "plt.legend(loc=\"lower right\")\r\n",
    "plt.show()"
   ],
   "outputs": [
    {
     "output_type": "display_data",
     "data": {
      "text/plain": [
       "<Figure size 432x288 with 1 Axes>"
      ],
      "image/png": "[encoded data removed]"
     },
     "metadata": {
      "needs_background": "light"
     }
    }
   ],
   "metadata": {}
  },
  {
   "cell_type": "code",
   "execution_count": 162,
   "source": [
    "print(roc_auc_score(y_train, y_scores_sgd))\r\n",
    "\r\n",
    "y_scores_sgd = cross_val_predict(sgd_clf, titanic_prepared, y_train, cv=3)\r\n",
    "print(precision_score(y_train, y_scores_sgd))\r\n",
    "print(recall_score(y_train, y_scores_sgd))"
   ],
   "outputs": [
    {
     "output_type": "stream",
     "name": "stdout",
     "text": [
      "0.7434157650695518\n",
      "0.7053140096618358\n",
      "0.73\n"
     ]
    }
   ],
   "metadata": {}
  },
  {
   "cell_type": "markdown",
   "source": [
    "Based on the ROC AUC score, precision and recall scores, it looks like the Random Forest classifier is the better among the two."
   ],
   "metadata": {}
  },
  {
   "cell_type": "code",
   "execution_count": 163,
   "source": [
    "from sklearn.neighbors import KNeighborsClassifier\r\n",
    "\r\n",
    "knn_clf = KNeighborsClassifier()\r\n",
    "y_scores_knn = cross_val_predict(knn_clf, titanic_prepared, y_train, cv=3)\r\n",
    "\r\n",
    "fpr_knn, tpr_knn, thresholds_knn = roc_curve(y_train, y_scores_knn)"
   ],
   "outputs": [],
   "metadata": {}
  },
  {
   "cell_type": "code",
   "execution_count": 164,
   "source": [
    "plt.plot(fpr, tpr, \"b:\", label=\"Random Forest\")\r\n",
    "plot_roc_curve(fpr_sgd, tpr_sgd, \"SGD\")\r\n",
    "plot_roc_curve(fpr_knn, tpr_knn, \"KNN\")\r\n",
    "plt.legend(loc=\"lower right\")\r\n",
    "plt.show()"
   ],
   "outputs": [
    {
     "output_type": "display_data",
     "data": {
      "text/plain": [
       "<Figure size 432x288 with 1 Axes>"
      ],
      "image/png": "[encoded data removed]"
     },
     "metadata": {
      "needs_background": "light"
     }
    }
   ],
   "metadata": {}
  },
  {
   "cell_type": "code",
   "execution_count": 165,
   "source": [
    "print(roc_auc_score(y_train, y_scores_knn))\r\n",
    "print(precision_score(y_train, y_scores_knn))\r\n",
    "print(recall_score(y_train, y_scores_knn))"
   ],
   "outputs": [
    {
     "output_type": "stream",
     "name": "stdout",
     "text": [
      "0.7759254250386398\n",
      "0.7527173913043478\n",
      "0.6925\n"
     ]
    }
   ],
   "metadata": {}
  },
  {
   "cell_type": "markdown",
   "source": [
    "Based on the ROC AUC score, precision and recall scores, it looks like the Random Forest classifier is the better among the three."
   ],
   "metadata": {}
  },
  {
   "cell_type": "markdown",
   "source": [
    "<h2 style=\"background-color:rgba(100,100,100,0.5);\"> Fine-Tune Your Model </h2>\r\n",
    "\r\n",
    "After shortlisting some promising models, you need to fine-tune the models."
   ],
   "metadata": {}
  },
  {
   "cell_type": "markdown",
   "source": [
    "Grid Search\n",
    "One option would be to fiddle with the hyperparameters manually, until you find a great combination of hyperparameter values. This would be very tedious work, and you may not have time to explore many combinations.\n",
    "\n",
    "Instead, you should get Scikit-Learn’s GridSearchCV to search for you. All you need to do is tell it which hyperparameters you want it to experiment with and what values to try out, and it will use cross-validation to evaluate all the possible combinations of hyperparameter values.\n",
    "\n",
    "For example, the following code searches for the best combination of hyperparameter values for the RandomForestRegressor for the 5's classifier."
   ],
   "metadata": {}
  },
  {
   "cell_type": "code",
   "execution_count": 172,
   "source": [
    "from sklearn.model_selection import GridSearchCV\r\n",
    "from sklearn.ensemble import RandomForestClassifier\r\n",
    "\r\n",
    "param_grid = [\r\n",
    "    {'n_estimators': [100, 200, 500],\r\n",
    "        'max_features': ['auto', 'sqrt', 'log2'],\r\n",
    "        'max_depth': [5, 7, 10]\r\n",
    "    },\r\n",
    "]\r\n",
    "\r\n",
    "grid_search = GridSearchCV(forest_clf, param_grid, cv=3)\r\n",
    "grid_search.fit(titanic_prepared, y_train)\r\n",
    "\r\n",
    "print(grid_search.best_params_)"
   ],
   "outputs": [
    {
     "output_type": "stream",
     "name": "stdout",
     "text": [
      "{'max_depth': 7, 'max_features': 'auto', 'n_estimators': 500}\n"
     ]
    }
   ],
   "metadata": {}
  },
  {
   "cell_type": "markdown",
   "source": [
    "<h2 style=\"background-color:rgba(100,100,100,0.5);\"> Analyze the Best Models and Their Errors </h2>\r\n",
    "\r\n",
    "You will often gain good insights on the problem by inspecting the best models.\r\n",
    "\r\n",
    "First, look at the confusion matrix. You need to make predictions using the cross_val_predict() function, then call the confusion_matrix() function (for the default threshold value):"
   ],
   "metadata": {}
  },
  {
   "cell_type": "code",
   "execution_count": 179,
   "source": [
    "forest_clf = grid_search.best_estimator_\r\n",
    "\r\n",
    "y_train_pred = cross_val_predict(forest_clf, titanic_prepared, y_train, cv=3)\r\n",
    "conf_mx = confusion_matrix(y_train, y_train_pred)\r\n",
    "\r\n",
    "print(conf_mx)"
   ],
   "outputs": [
    {
     "output_type": "stream",
     "name": "stdout",
     "text": [
      "[[585  62]\n",
      " [113 287]]\n"
     ]
    }
   ],
   "metadata": {}
  },
  {
   "cell_type": "markdown",
   "source": [
    "It’s often more convenient to look at an image representation of the confusion matrix, using Matplotlib’s matshow() function:"
   ],
   "metadata": {}
  },
  {
   "cell_type": "code",
   "execution_count": 174,
   "source": [
    "plt.matshow(conf_mx, cmap=plt.cm.gray)\r\n",
    "plt.show()"
   ],
   "outputs": [
    {
     "output_type": "display_data",
     "data": {
      "text/plain": [
       "<Figure size 288x288 with 1 Axes>"
      ],
      "image/png": "[encoded data removed]"
     },
     "metadata": {
      "needs_background": "light"
     }
    }
   ],
   "metadata": {}
  },
  {
   "cell_type": "markdown",
   "source": [
    "A good confusiong matrix will have most images on the main diagonal which means that they were classified correctly. The survived look darker than the not survived, which could mean that there are fewer survived in the dataset or that the classifier does not perform as well on the survived as on the non-survived. In fact, you can verify that both are the case.\r\n",
    "\r\n",
    "Let’s focus the plot on the errors. First, you need to divide each value in the confusion matrix by the number of images in the corresponding class so that you can compare error rates instead of absolute numbers of errors (which would make abundant classes look unfairly bad), then fill the diagonal with zeros to keep only the errors, and plot the result."
   ],
   "metadata": {}
  },
  {
   "cell_type": "code",
   "execution_count": 175,
   "source": [
    "row_sums = conf_mx.sum(axis=1, keepdims=True)\r\n",
    "norm_conf_mx = conf_mx / row_sums\r\n",
    "\r\n",
    "np.fill_diagonal(norm_conf_mx, 0)\r\n",
    "plt.matshow(norm_conf_mx, cmap=plt.cm.gray)\r\n",
    "\r\n",
    "plt.show()"
   ],
   "outputs": [
    {
     "output_type": "display_data",
     "data": {
      "text/plain": [
       "<Figure size 288x288 with 1 Axes>"
      ],
      "image/png": "[encoded data removed]"
     },
     "metadata": {
      "needs_background": "light"
     }
    }
   ],
   "metadata": {}
  },
  {
   "cell_type": "markdown",
   "source": [
    "The rows represent actual classes, while columns represent predicted classes. It looks like the classifier misses a lot of survived classifications (false negatives).\r\n",
    "\r\n",
    "Analyzing the confusion matrix often gives you insights into ways to improve your classifier. Looking at this plot, it seems that your efforts should be spent on reducing the false 5s. For example, you could try to gather more training data for this category. Or you could engineer new features.\r\n",
    "\r\n",
    "Analyzing individual errors can also be a good way to gain insights on what your classifier is doing and why it is failing, but it is more difficult and time-consuming."
   ],
   "metadata": {}
  },
  {
   "cell_type": "markdown",
   "source": [
    "<h2 style=\"background-color:rgba(100,100,100,0.5);\"> Evaluate Your System on the Test Set </h2>\r\n",
    "\r\n",
    "After tweaking your models for a while, you eventually have a system that performs sufficiently well. Now is the time to evaluate the final model on the test set.\r\n",
    "\r\n",
    "There is nothing special about this process; just get the predictors and the labels from your test set, run your full_pipeline to transform the data (call transform(), not fit_transform — you do not want to fit the test set!), and evaluate the final model on the test set.\r\n"
   ],
   "metadata": {}
  },
  {
   "cell_type": "code",
   "execution_count": 184,
   "source": [
    "from sklearn.metrics import classification_report\r\n",
    "\r\n",
    "final_model =  grid_search.best_estimator_\r\n",
    "\r\n",
    "X_test_prepared = full_pipeline.transform(X_test.drop([\"cabin\", \"boat\", \"body\", \"home.dest\", \"ticket\"],\r\n",
    "                                                      axis=1))\r\n",
    "y_test_pred = final_model.predict(X_test_prepared)\r\n",
    "\r\n",
    "print(classification_report(y_test, y_test_pred))"
   ],
   "outputs": [
    {
     "output_type": "stream",
     "name": "stdout",
     "text": [
      "              precision    recall  f1-score   support\n",
      "\n",
      "           0       0.86      0.95      0.90       162\n",
      "           1       0.90      0.75      0.82       100\n",
      "\n",
      "    accuracy                           0.87       262\n",
      "   macro avg       0.88      0.85      0.86       262\n",
      "weighted avg       0.88      0.87      0.87       262\n",
      "\n"
     ]
    }
   ],
   "metadata": {}
  },
  {
   "cell_type": "markdown",
   "source": [
    "<h2 style=\"background-color:rgba(100,100,100,0.5);\"> Summary </h2>\r\n",
    "\r\n",
    "This exercise demonstrates how to do build a classification model for the titanic data set. This presents an overview of the steps, but does not exhaustively consider all possible different models, nor does it select the best possible hyperparameters but, nevertheless performs reasonably well based on the scores."
   ],
   "metadata": {}
  }
 ]
}